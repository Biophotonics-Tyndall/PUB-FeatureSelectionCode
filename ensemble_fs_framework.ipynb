{
 "cells": [
  {
   "cell_type": "markdown",
   "source": [
    "# Ensemble Feature Selection (EFS) Framework"
   ],
   "metadata": {
    "collapsed": false,
    "pycharm": {
     "name": "#%% md\n"
    }
   }
  },
  {
   "cell_type": "code",
   "execution_count": null,
   "outputs": [],
   "source": [
    "import os\n",
    "\n",
    "import pandas as pd\n",
    "import numpy as np\n",
    "import math\n",
    "\n",
    "from scipy.signal import savgol_filter\n",
    "from itertools import combinations\n",
    "\n",
    "# mrmr\n",
    "from mrmr import mrmr_classif\n",
    "# all reliefF\n",
    "import skrebate as skr\n",
    "from sklearn.feature_selection import SelectKBest\n",
    "from sklearn.feature_selection import mutual_info_classif\n",
    "from sklearn.feature_selection import f_classif\n",
    "\n",
    "import shap\n",
    "shap.initjs()\n",
    "\n",
    "from sklearn.metrics import accuracy_score\n",
    "from sklearn.metrics import balanced_accuracy_score\n",
    "from sklearn.metrics import f1_score\n",
    "from sklearn.model_selection import train_test_split\n",
    "from sklearn.discriminant_analysis import LinearDiscriminantAnalysis\n",
    "from sklearn.ensemble import RandomForestClassifier\n",
    "from sklearn.model_selection import RepeatedStratifiedKFold\n",
    "from boruta import BorutaPy\n",
    "\n",
    "import matplotlib.pyplot as plt\n",
    "from cycler import cycler\n",
    "import matplotlib.transforms\n",
    "\n",
    "import time\n",
    "from joblib import dump\n"
   ],
   "metadata": {
    "collapsed": false,
    "pycharm": {
     "name": "#%%\n"
    }
   }
  },
  {
   "cell_type": "code",
   "execution_count": null,
   "outputs": [],
   "source": [
    "# Change to data directory\n",
    "\n",
    "work_path = os.getcwd()\n",
    "print(work_path)\n",
    "\n",
    "os.chdir('YOUR DATA DIRECTORY')\n",
    "data_path = os.getcwd()\n",
    "print(data_path)\n",
    "os.chdir(data_path)"
   ],
   "metadata": {
    "collapsed": false,
    "pycharm": {
     "name": "#%%\n"
    }
   }
  },
  {
   "cell_type": "code",
   "execution_count": null,
   "outputs": [],
   "source": [
    "# Load data\n",
    "\n",
    "os.chdir(data_path)\n",
    "\n",
    "# Load dataset - df\n",
    "df = pd.read_csv('YOUR DATA FILE.csv')\n",
    "\n",
    "# Average spectra for each tissue type\n",
    "avg_df_by_y = df.groupby(['target_y']).mean()\n",
    "stdev_df_by_y = df.groupby(['target_y']).std()\n",
    "\n",
    "# Column names to numerical\n",
    "col_wavelengths = df.columns.drop('target_y')\n",
    "col_wavelengths = col_wavelengths.astype(np.float64)\n",
    "print('Number of wavelengths: ', len(col_wavelengths))\n",
    "\n",
    "# Legend labels\n",
    "tissue_types = df['target_y'].unique()\n",
    "tissue_types.sort()"
   ],
   "metadata": {
    "collapsed": false,
    "pycharm": {
     "name": "#%%\n"
    }
   }
  },
  {
   "cell_type": "code",
   "execution_count": null,
   "outputs": [],
   "source": [
    "# SG Smoothing of the raw data - Gentle smoothing with w/p = 2.5 to get rid of some baseline noise\n",
    "\n",
    "# Features\n",
    "X_raw = df.drop(['target_y'], axis=1)\n",
    "\n",
    "# Target\n",
    "y = df['target_y']\n",
    "\n",
    "# Spectral Smoothing - Savitzky–Golay (SG) method\n",
    "w = 5\n",
    "p = 2\n",
    "X_smooth = savgol_filter(X_raw, w, polyorder=p, axis=1, deriv=0)\n",
    "\n",
    "# Smoothed dataframe\n",
    "df_smooth = pd.DataFrame(X_smooth, columns = col_wavelengths.astype(\"string\"))\n",
    "df_smooth = pd.concat([df_smooth, y.rename('target_y')], axis=1)\n",
    "\n",
    "# Average spectra for each tissue type\n",
    "avg_df_by_y_smooth = df_smooth.groupby(['target_y']).mean()\n",
    "stdev_df_by_y_smooth = df_smooth.groupby(['target_y']).std()"
   ],
   "metadata": {
    "collapsed": false,
    "pycharm": {
     "name": "#%%\n"
    }
   }
  },
  {
   "cell_type": "code",
   "execution_count": null,
   "outputs": [],
   "source": [
    "# Spectral Partition into UV/VIS/NIR/SWIR\n",
    "\n",
    "#VIS\n",
    "df_vis_idx = np.where(col_wavelengths.values<700)[-1][-1]\n",
    "df_smooth_vis = df_smooth.iloc[:,:df_vis_idx]\n",
    "df_smooth_vis = pd.concat([df_smooth_vis, y.rename('target_y')], axis=1)\n",
    "col_wavelengths_vis = col_wavelengths[:df_vis_idx]\n",
    "\n",
    "#NIR\n",
    "df_nir_idx_start = np.where((col_wavelengths.values>=700) & (col_wavelengths.values<1000))[-1][0]\n",
    "df_nir_idx_end = np.where((col_wavelengths.values>=700) & (col_wavelengths.values<1000))[-1][-1]\n",
    "df_smooth_nir = df_smooth.iloc[:,df_nir_idx_start:df_nir_idx_end]\n",
    "df_smooth_nir = pd.concat([df_smooth_nir, y.rename('target_y')], axis=1)\n",
    "col_wavelengths_nir = col_wavelengths[df_nir_idx_start:df_nir_idx_end]\n",
    "\n",
    "#SWIR\n",
    "df_swir_idx = np.where(col_wavelengths.values>=1000)[-1][0]\n",
    "df_smooth_swir = df_smooth.iloc[:,df_swir_idx:]\n",
    "col_wavelengths_swir = col_wavelengths[df_swir_idx:]\n",
    "\n",
    "#VIS/NIR together\n",
    "df_vis_nir_idx = np.where(col_wavelengths.values<1000)[-1][-1]\n",
    "df_smooth_vis_nir = df_smooth.iloc[:,:df_vis_nir_idx]\n",
    "df_smooth_vis_nir = pd.concat([df_smooth_vis_nir, y.rename('target_y')], axis=1)\n",
    "col_wavelengths_vis_nir = col_wavelengths[:df_vis_nir_idx]"
   ],
   "metadata": {
    "collapsed": false,
    "pycharm": {
     "name": "#%%\n"
    }
   }
  },
  {
   "cell_type": "code",
   "execution_count": null,
   "outputs": [],
   "source": [
    "# Change to save path\n",
    "os.chdir(work_path)\n",
    "os.chdir('YOUR SAVE PATH')\n",
    "save_path = os.getcwd()\n",
    "print(save_path)"
   ],
   "metadata": {
    "collapsed": false,
    "pycharm": {
     "name": "#%%\n"
    }
   }
  },
  {
   "cell_type": "markdown",
   "source": [
    "#### Define functions"
   ],
   "metadata": {
    "collapsed": false,
    "pycharm": {
     "name": "#%% md\n"
    }
   }
  },
  {
   "cell_type": "code",
   "execution_count": null,
   "outputs": [],
   "source": [
    "# Define a function to remove multicollinearity - can select top K least correlated features using Pearson correlation\n",
    "# Return indices\n",
    "\n",
    "def top_K_least_correlated(X,y, K_features, selection = f_classif):\n",
    "\n",
    "    # Select the top feature by ANOVA F-value\n",
    "    fs = SelectKBest(selection,k=\"all\")\n",
    "    fs.fit(X,y)\n",
    "    # Find the index from high to low\n",
    "    anova_ind = np.argsort(-fs.scores_)\n",
    "\n",
    "    # Initiate the search\n",
    "    selected_ind_update = [anova_ind[0]]\n",
    "    anova_ind_update = np.copy(anova_ind)\n",
    "    anova_ind_update = np.delete(anova_ind_update, 0)\n",
    "\n",
    "    while len(selected_ind_update) < K_features:\n",
    "        #print('Number of Selected Ind: ', len(selected_ind_update))\n",
    "        pearson_rank = []\n",
    "        for i in range(len(anova_ind_update)):\n",
    "            pearson_corr = np.max(np.abs(np.corrcoef(X.iloc[:, selected_ind_update + [anova_ind_update[i]]], rowvar=False))\n",
    "                                  - np.identity(len(selected_ind_update)+1))\n",
    "            pearson_rank.append(pearson_corr)\n",
    "        selected_ind = np.argsort(pearson_rank)[0]\n",
    "        selected_anova_ind = anova_ind_update[selected_ind]\n",
    "        #print('Selected Ind: ', selected_anova_ind)\n",
    "        #print('Selected Pearson Coeff: ', pearson_rank[selected_ind])\n",
    "        selected_ind_update.append(selected_anova_ind)\n",
    "        anova_ind_update = np.delete(anova_ind_update, selected_ind)\n",
    "\n",
    "    return selected_ind_update"
   ],
   "metadata": {
    "collapsed": false,
    "pycharm": {
     "name": "#%%\n"
    }
   }
  },
  {
   "cell_type": "code",
   "execution_count": null,
   "outputs": [],
   "source": [
    "# Define a function to plot ensemble results - selected wavelength\n",
    "def plot_wv_ensemble(spectral_range, mrmr_wv, relieff_wv, mi_wv, union_wv, boruta_wv, final_wv, save_flag, tissue_1, tissue_2):\n",
    "\n",
    "    # Set custom color cycle\n",
    "    custom_cycler = (cycler('color', ['#d62728', '#1f77b4', '#2ca02c', '#ff7f0e',\n",
    "                                      '#9467bd', '#8c564b', '#e377c2', '#7f7f7f', '#bcbd22', '#17becf']) +\n",
    "                     cycler(lw=[1.5, 1.5, 1.5, 1.5, 1.5, 1.5, 1.5, 1.5, 1.5, 1.5]))\n",
    "\n",
    "\n",
    "    # Set the figure size\n",
    "    f, ax = plt.subplots(figsize=(10, 8))\n",
    "\n",
    "    # Tight layout\n",
    "    f.tight_layout()\n",
    "\n",
    "    # Set colors\n",
    "    ax.set_prop_cycle(custom_cycler)\n",
    "\n",
    "    # Plot\n",
    "    x_fill_1 = np.zeros(len(mrmr_wv))+1\n",
    "    x_fill_2 = np.zeros(len(relieff_wv))+1.1\n",
    "    x_fill_3 = np.zeros(len(mi_wv))+1.2\n",
    "    x_fill_4 = np.zeros(len(union_wv))+1.4\n",
    "\n",
    "    plt.scatter(mrmr_wv, x_fill_1, label='mRMR Selected')\n",
    "    plt.scatter(relieff_wv, x_fill_2, label='ReliefF Selected')\n",
    "    plt.scatter(mi_wv, x_fill_3, label='MI selected')\n",
    "    plt.scatter(union_wv, x_fill_4, label='Union')\n",
    "\n",
    "    if np.any(boruta_wv):\n",
    "        if np.any(final_wv):\n",
    "            for wv in final_wv:\n",
    "                plt.axvline(x=wv, color='m', linestyle='-', alpha=0.3)\n",
    "                plt.text(0, -0.13, 'Selected Wavelengths - Final: ' + str(np.array(final_wv)), horizontalalignment='left',\n",
    "                         verticalalignment = 'center_baseline', transform=ax.transAxes)\n",
    "        else:\n",
    "            for wv in boruta_wv:\n",
    "                plt.axvline(x=wv, color='c', linestyle='-', alpha=0.08)\n",
    "                plt.text(0, -0.1, 'Number of Selected Wavelengths - BORUTA: ' + str(len(boruta_wv)), horizontalalignment='left',\n",
    "                         verticalalignment = 'center_baseline', transform=ax.transAxes)\n",
    "    else:\n",
    "        plt.text(0, -0.13, 'Number of Selected Wavelengths - Union: ' + str(len(union_wv)), horizontalalignment='left',\n",
    "                 verticalalignment = 'center_baseline', transform=ax.transAxes)\n",
    "\n",
    "    # Set figure object\n",
    "    ax.set_title('Selected Wavelengths ' + str(tissue_1) + ' vs. ' + str(tissue_2))\n",
    "    ax.set_xlabel('Wavelength (nm)')\n",
    "    ax.set_ylabel('(A.U.)')\n",
    "    if spectral_range[-1] < 700:\n",
    "        ax.set_xlim([350, 700])\n",
    "    elif (spectral_range[0] > 700) and (spectral_range[-1] < 1000):\n",
    "        ax.set_xlim([700, 1000])\n",
    "    elif (spectral_range[0] > 350) and (spectral_range[-1] < 1000):\n",
    "        ax.set_xlim([350, 1000])\n",
    "    elif (spectral_range[0] > 1000) and (spectral_range[-1] < 1850):\n",
    "        ax.set_xlim([1000, 1850])\n",
    "    else:\n",
    "        ax.set_xlim([350, 1850])\n",
    "    ax.set_ylim([0.9, 1.5])\n",
    "    plt.legend(loc='center left', bbox_to_anchor=(1.0, 0.5))\n",
    "    bbox = matplotlib.transforms.Bbox([[-0.45, -1.3], [11.45, 8.56]])\n",
    "\n",
    "    # Save figure - condition\n",
    "    if save_flag:\n",
    "        if not os.path.exists(str(tissue_1) + '_' + str(tissue_2) + '_' + str(np.any(boruta_wv)) + str(np.any(final_wv)) + '_ensemble_fs.png'):\n",
    "            f.savefig(os.getcwd() + '/' +  str(tissue_1) + '_' + str(tissue_2) + '_' + str(np.any(boruta_wv)) + str(np.any(final_wv)) +\n",
    "                      '_ensemble_fs.png', dpi = 1080, bbox_inches =bbox)\n",
    "        plt.close()\n",
    "    else:\n",
    "        plt.show()"
   ],
   "metadata": {
    "collapsed": false,
    "pycharm": {
     "name": "#%%\n"
    }
   }
  },
  {
   "cell_type": "code",
   "execution_count": null,
   "outputs": [],
   "source": [
    "# Define a function to plot ensemble results - selected wavelength\n",
    "def plot_wv_ensemble_spectral(df_plot, union_wv, boruta_wv, final_wv, tissue_1, tissue_2):\n",
    "\n",
    "    # Set custom color cycle\n",
    "    custom_cycler = (cycler('color', ['#d62728', '#1f77b4', '#2ca02c', '#ff7f0e',\n",
    "                                      '#9467bd', '#8c564b', '#e377c2', '#7f7f7f', '#bcbd22', '#17becf']) +\n",
    "                     cycler(lw=[1.5, 1.5, 1.5, 1.5, 1.5, 1.5, 1.5, 1.5, 1.5, 1.5]))\n",
    "\n",
    "    # Set colors\n",
    "    ax.set_prop_cycle(custom_cycler)\n",
    "\n",
    "    # Average spectra for each tissue type\n",
    "    df_subset = df_plot[df_plot['target_y'].isin([tissue_1, tissue_2])]\n",
    "    avg_df_select_tissues = df_subset.groupby(['target_y']).mean()\n",
    "    stdev_df_select_tissues = df_subset.groupby(['target_y']).std()\n",
    "\n",
    "    select_tissue_label = [tissue_1,tissue_2]\n",
    "    for tissue in range(avg_df_select_tissues.shape[0]):\n",
    "        plt.plot(col_wavelengths, avg_df_select_tissues.iloc[tissue,:], label = select_tissue_label[tissue])\n",
    "        pos_std = avg_df_select_tissues.iloc[tissue,:] + stdev_df_select_tissues.iloc[tissue,:]\n",
    "        neg_std = avg_df_select_tissues.iloc[tissue,:] - stdev_df_select_tissues.iloc[tissue,:]\n",
    "        ax.fill_between(col_wavelengths, neg_std, pos_std, alpha = 0.08)\n",
    "\n",
    "    if np.any(boruta_wv):\n",
    "        if np.any(final_wv):\n",
    "            for wv in final_wv:\n",
    "                plt.axvline(x=wv, color='m', linestyle='-', alpha=0.3)\n",
    "                plt.text(0, -0.13, 'Selected Wavelengths - Final: ' + str(np.array(final_wv)), horizontalalignment='left',\n",
    "                         verticalalignment = 'center_baseline', transform=ax.transAxes)\n",
    "        else:\n",
    "            for wv in boruta_wv:\n",
    "                plt.axvline(x=wv, color='c', linestyle='-', alpha=0.08)\n",
    "                plt.text(0, -0.1, 'Number of Selected Wavelengths - BORUTA: ' + str(len(boruta_wv)), horizontalalignment='left',\n",
    "                         verticalalignment = 'center_baseline', transform=ax.transAxes)\n",
    "    else:\n",
    "        for wv in union_wv:\n",
    "            plt.axvline(x=wv, color='g', linestyle='-', alpha=0.05)\n",
    "            plt.text(0, -0.13, 'Number of Selected Wavelengths - Union: ' + str(len(union_wv)), horizontalalignment='left',\n",
    "                     verticalalignment = 'center_baseline', transform=ax.transAxes)\n",
    "\n",
    "    # Set figure object\n",
    "    ax.set_title('Selected Wavelengths ' + str(tissue_1) + ' vs. ' + str(tissue_2))\n",
    "    ax.set_xlabel('Wavelength (nm)')\n",
    "    ax.set_ylabel('(A.U.)')\n",
    "    ax.set_xlim([350,1850])\n",
    "    plt.legend(loc='center left', bbox_to_anchor=(1.0, 0.5))\n"
   ],
   "metadata": {
    "collapsed": false,
    "pycharm": {
     "name": "#%%\n"
    }
   }
  },
  {
   "cell_type": "code",
   "execution_count": null,
   "outputs": [],
   "source": [
    "def plot_wv_ensemble_spectral_ovr(df_plot, spectral_range, union_wv, boruta_wv, final_wv, pos_class, neg_class):\n",
    "\n",
    "    # Average spectra for each tissue type\n",
    "    avg_df_select_tissues = df_plot.groupby(['target_y']).mean()\n",
    "    stdev_df_select_tissues = df_plot.groupby(['target_y']).std()\n",
    "\n",
    "    # Plot\n",
    "    select_tissue_label = [i,k_1,k_2,k_3,k_4] # Can define outside the function\n",
    "    select_tissue_label.sort()\n",
    "    # Set custom color cycle\n",
    "    if pos_class == 'boneCement':\n",
    "        custom_cycler= (cycler('color', ['#d62728', '#808080', '#808080', '#808080', '#808080']) + cycler(lw=[1.5, 1.5, 1.5, 1.5, 1.5]))\n",
    "    elif pos_class == 'cortBone':\n",
    "        custom_cycler = (cycler('color', ['#808080', '#808080', '#d62728', '#808080', '#808080']) + cycler(lw=[1.5, 1.5, 1.5, 1.5, 1.5]))\n",
    "\n",
    "    # Set colors\n",
    "    ax.set_prop_cycle(custom_cycler)\n",
    "    for tissue in range(avg_df_select_tissues.shape[0]):\n",
    "        plt.plot(spectral_range, avg_df_select_tissues.iloc[tissue, :], label=select_tissue_label[tissue])\n",
    "        pos_std = avg_df_select_tissues.iloc[tissue, :] + stdev_df_select_tissues.iloc[tissue, :]\n",
    "        neg_std = avg_df_select_tissues.iloc[tissue, :] - stdev_df_select_tissues.iloc[tissue, :]\n",
    "        ax.fill_between(spectral_range, neg_std, pos_std, alpha=0.08)\n",
    "\n",
    "    if np.any(boruta_wv):\n",
    "        if np.any(final_wv):\n",
    "            for wv in final_wv:\n",
    "                plt.axvline(x=wv, color='m', linestyle='-', alpha=0.3)\n",
    "                plt.text(0, -0.13, 'Selected Wavelengths - Final: ' + str(np.array(final_wv)), horizontalalignment='left',\n",
    "                         verticalalignment = 'center_baseline', transform=ax.transAxes)\n",
    "        else:\n",
    "            for wv in boruta_wv:\n",
    "                plt.axvline(x=wv, color='c', linestyle='-', alpha=0.15)\n",
    "                plt.text(0, -0.1, 'Number of Selected Wavelengths - BORUTA: ' + str(len(boruta_wv)), horizontalalignment='left',\n",
    "                         verticalalignment = 'center_baseline', transform=ax.transAxes)\n",
    "    else:\n",
    "        for wv in union_wv:\n",
    "            plt.axvline(x=wv, color='g', linestyle='-', alpha=0.05)\n",
    "            plt.text(0, -0.13, 'Number of Selected Wavelengths - Union: ' + str(len(union_wv)), horizontalalignment='left',\n",
    "                     verticalalignment = 'center_baseline', transform=ax.transAxes)\n",
    "\n",
    "    # Set figure object\n",
    "    ax.set_title('Selected Wavelengths for ' + str(pos_class) + ' vs. ' + str(neg_class))\n",
    "    ax.set_xlabel('Wavelength (nm)')\n",
    "    ax.set_ylabel('Normalized Intensity (A.U.)')\n",
    "    if spectral_range[-1] < 700:\n",
    "        ax.set_xlim([350, 700])\n",
    "    elif (spectral_range[0] > 700) and (spectral_range[-1] < 1000):\n",
    "        ax.set_xlim([700, 1000])\n",
    "    elif (spectral_range[0] > 350) and (spectral_range[-1] < 1000):\n",
    "        ax.set_xlim([350, 1000])\n",
    "    elif (spectral_range[0] > 1000) and (spectral_range[-1] < 1850):\n",
    "        ax.set_xlim([1000, 1850])\n",
    "    else:\n",
    "        ax.set_xlim([350, 1850])\n",
    "    plt.legend(loc='center left', bbox_to_anchor=(1.0, 0.5))"
   ],
   "metadata": {
    "collapsed": false,
    "pycharm": {
     "name": "#%%\n"
    }
   }
  },
  {
   "cell_type": "code",
   "execution_count": null,
   "outputs": [],
   "source": [
    "# Define a function to evaluate clf accuracy using lda - Number of Features is a variable\n",
    "\n",
    "def clf_accuracy_eval(X, y, model, cv):\n",
    "\n",
    "    # Initiate empty lists\n",
    "    clf_accuracy_scores = [] # Calculate classification scores\n",
    "    clf_balanced_accuracy_scores = []\n",
    "    clf_f1_scores = []\n",
    "    #count = 0\n",
    "    for train_index, test_index in cv.split(X, y):\n",
    "        # count+=1\n",
    "        # print(count, \" of \",  cv.get_n_splits(), \" CV folds \", end=\"\\r\")\n",
    "\n",
    "        # define model\n",
    "        clf_model = model # model needs to be refined in each loop? so move down into the loop?\n",
    "\n",
    "        X_train, X_test = X.iloc[train_index], X.iloc[test_index]\n",
    "        y_train, y_test = y.iloc[train_index], y.iloc[test_index]\n",
    "\n",
    "        # Fit model\n",
    "        clf_model.fit(X_train, y_train)\n",
    "        # Predict using the fitted model\n",
    "        y_predict = clf_model.predict(X_test)\n",
    "        # Calculate classification accuracy score\n",
    "        clf_accuracy_score = accuracy_score(y_test, y_predict)\n",
    "        # Calculate classification balanced accuracy score\n",
    "        clf_balanced_accuracy_score = balanced_accuracy_score(y_test, y_predict)\n",
    "        # Calculate classification F-1 score\n",
    "        clf_f1_score = f1_score(y_test, y_predict, average='binary')\n",
    "        # Store each iteration\n",
    "        clf_accuracy_scores.append(clf_accuracy_score)\n",
    "        clf_balanced_accuracy_scores.append(clf_balanced_accuracy_score)\n",
    "        clf_f1_scores.append(clf_f1_score)\n",
    "\n",
    "    return clf_accuracy_scores, clf_balanced_accuracy_scores, clf_f1_scores"
   ],
   "metadata": {
    "collapsed": false,
    "pycharm": {
     "name": "#%%\n"
    }
   }
  },
  {
   "cell_type": "markdown",
   "source": [
    "#### The OVO Approach"
   ],
   "metadata": {
    "collapsed": false,
    "pycharm": {
     "name": "#%% md\n"
    }
   }
  },
  {
   "cell_type": "code",
   "execution_count": null,
   "outputs": [],
   "source": [
    "# Change to save path\n",
    "os.chdir(save_path)\n",
    "os.chdir('YOUR SAVE PATH - SUBFOLDER')\n",
    "print(os.getcwd())"
   ],
   "metadata": {
    "collapsed": false,
    "pycharm": {
     "name": "#%%\n"
    }
   }
  },
  {
   "cell_type": "code",
   "execution_count": null,
   "outputs": [],
   "source": [
    "# Ensemble Framework for the OVO approach starts here:\n",
    "\n",
    "\n",
    "# Define dataset\n",
    "df_dataset = df_smooth\n",
    "spectral_range = col_wavelengths\n",
    "\n",
    "#df_dataset = df_smooth_vis\n",
    "#spectral_range = col_wavelengths_vis\n",
    "\n",
    "#df_dataset = df_smooth_vis_nir\n",
    "#spectral_range = col_wavelengths_vis_nir\n",
    "\n",
    "tissue_types = tissue_types\n",
    "\n",
    "# Set global random state\n",
    "random_state = 42\n",
    "\n",
    "# Define cross validation\n",
    "cv = RepeatedStratifiedKFold(n_splits=10, n_repeats=10, random_state=random_state)\n",
    "\n",
    "# Define binary combinations\n",
    "list_tissue_comb = list(combinations(tissue_types,2))\n",
    "# Save the list of binary pairs\n",
    "if not os.path.exists('order_of_tissue_comb.joblib'):\n",
    "    dump(list_tissue_comb, 'order_of_tissue_comb.joblib')"
   ],
   "metadata": {
    "collapsed": false,
    "pycharm": {
     "name": "#%%\n"
    }
   }
  },
  {
   "cell_type": "code",
   "execution_count": null,
   "outputs": [],
   "source": [
    "# Run the for loop to calculate for all binary pairs\n",
    "\n",
    "# for i,k in combinations(tissue_types,2): # can separate this to make an individual function\n",
    "#\n",
    "#     # Track timestamp - elapsed time\n",
    "#     start_time = time.time()\n",
    "#\n",
    "#     count += 1\n",
    "\n",
    "# if count == 2:\n",
    "#     print('count = 2; break')\n",
    "#     break\n",
    "\n",
    "# Else for single pairs --->\n",
    "\n",
    "i = 'boneCement'\n",
    "k = 'cortBone'\n",
    "\n",
    "# i = 'boneMarrow'\n",
    "# k = 'cortBone'\n",
    "\n",
    "# Select from the original dataset\n",
    "binary_subset = df_dataset[df_dataset['target_y'].isin([i, k])]\n",
    "\n",
    "# Features\n",
    "X_binary_init = binary_subset.drop(['target_y'], axis=1)\n",
    "# Target\n",
    "y_binary_init = binary_subset['target_y']\n",
    "# Convert to 0 and 1 - i = 1, k = 0\n",
    "y_binary_init = (y_binary_init == i).astype('uint8')\n",
    "\n",
    "\n",
    "# Split Train Test Validation set\n",
    "X_binary, X_val_all, y_binary, y_val_all = train_test_split(X_binary_init, y_binary_init,\n",
    "                                                            test_size=0.2, stratify=y_binary_init, random_state=random_state)\n"
   ],
   "metadata": {
    "collapsed": false,
    "pycharm": {
     "name": "#%%\n"
    }
   }
  },
  {
   "cell_type": "markdown",
   "source": [
    "#### Univariate Filtering"
   ],
   "metadata": {
    "collapsed": false,
    "pycharm": {
     "name": "#%% md\n"
    }
   }
  },
  {
   "cell_type": "code",
   "execution_count": null,
   "outputs": [],
   "source": [
    "# Univariate Filtering\n",
    "\n",
    "# Define the number of features to be selected from each filter method\n",
    "fraction = 0.2\n",
    "K_features = math.floor(len(col_wavelengths)*fraction)\n",
    "print('The number of features to be selected: ', K_features)\n",
    "\n",
    "# mRMR\n",
    "selected_wv_mrmr = mrmr_classif(X_binary, y_binary, K=K_features) #, show_progress=False\n",
    "selected_wv_mrmr = np.float64(selected_wv_mrmr)\n",
    "\n",
    "# reliefF\n",
    "relief_F_model = skr.ReliefF(n_features_to_select=K_features, n_neighbors=20)\n",
    "relief_F_scores = relief_F_model.fit(X_binary.values, y_binary.values)\n",
    "# Find the selected wavelengths\n",
    "idx_relieff = relief_F_scores.top_features_\n",
    "selected_wv_relieff = spectral_range[idx_relieff[:K_features]]\n",
    "\n",
    "# Mutual information\n",
    "mi_scores = SelectKBest(mutual_info_classif, k=K_features).fit(X_binary, y_binary)\n",
    "# Find the selected wavelengths\n",
    "selected_wv_mi = spectral_range[mi_scores.get_support()]\n",
    "\n",
    "# Fine the union of the selected wavelengths from mRMR, reliefF, Mutual Information\n",
    "all_union = list(set(selected_wv_mrmr) | set(selected_wv_relieff) | set(selected_wv_mi))\n",
    "all_union_str = [str(x) for x in np.sort(all_union)]\n",
    "print('The Selected Wavelengths from Union: ', len(all_union_str))\n",
    "\n",
    "# Selected wavelengths\n",
    "selected_X_binary = X_binary.loc[:, all_union_str].values\n",
    "\n",
    "# Plot union of the three filter methods\n",
    "plot_wv_ensemble(spectral_range, selected_wv_mrmr, selected_wv_relieff, selected_wv_mi, all_union, None, None, True, i, k)"
   ],
   "metadata": {
    "collapsed": false,
    "pycharm": {
     "name": "#%%\n"
    }
   }
  },
  {
   "cell_type": "code",
   "execution_count": null,
   "outputs": [],
   "source": [
    "# Set the figure size\n",
    "f, ax = plt.subplots(figsize=(10, 8))\n",
    "\n",
    "# Tight layout\n",
    "f.tight_layout()\n",
    "\n",
    "# Plot\n",
    "plot_wv_ensemble_spectral(df_dataset, all_union, None, None, i, k)\n",
    "\n",
    "bbox = matplotlib.transforms.Bbox([[-0.45, -1.3], [11.45, 8.56]])\n",
    "if not os.path.exists(str(i) + '_' + str(k) + '_1_UNION_fs.png'):\n",
    "    f.savefig(os.getcwd() + '/' +  str(i) + '_' + str(k) + '_1_UNION_fs.png', dpi = 1080, bbox_inches =bbox)\n",
    "plt.close()"
   ],
   "metadata": {
    "collapsed": false,
    "pycharm": {
     "name": "#%%\n"
    }
   }
  },
  {
   "cell_type": "markdown",
   "source": [
    "#### BORUTA - RF"
   ],
   "metadata": {
    "collapsed": false,
    "pycharm": {
     "name": "#%% md\n"
    }
   }
  },
  {
   "cell_type": "code",
   "execution_count": null,
   "outputs": [],
   "source": [
    "# BORUTA - RF\n",
    "\n",
    "# Boruta feature selection - ALL\n",
    "\n",
    "# Track timestamp - elapsed time\n",
    "start_time = time.time()\n",
    "\n",
    "# Define boruta estimator\n",
    "boruta_model = RandomForestClassifier(n_estimators=100, class_weight='balanced',\n",
    "                                      random_state=random_state, n_jobs=-1)\n",
    "\n",
    "# Define boruta feature selector\n",
    "fs_boruta = BorutaPy(estimator=boruta_model, n_estimators='auto', perc=100, max_iter=100,  verbose=1, random_state=random_state)\n",
    "\n",
    "# Fit boruta feature selector\n",
    "fs_boruta.fit(selected_X_binary, y_binary)\n",
    "\n",
    "# End timestamp\n",
    "end_time = time.time()\n",
    "print('Time to run: ', end_time - start_time, ' seconds')\n",
    "\n",
    "# Rank Boruta selected features\n",
    "selected_boruta_features = pd.DataFrame({'Features': all_union_str,\n",
    "                                         'Ranking': fs_boruta.ranking_})\n",
    "selected_boruta_features.sort_values(by='Ranking')\n",
    "\n",
    "# Select TOP boruta selected features\n",
    "boruta_top_features = selected_boruta_features[selected_boruta_features[\"Ranking\"] == 1]\n",
    "print('The Number of Selected Wavelengths from BORUTA + RF: ', len(boruta_top_features))\n",
    "\n",
    "# Find the selected wavelengths in STR and FLOAT\n",
    "boruta_wavelengths = boruta_top_features[\"Features\"].astype(np.float64)\n",
    "boruta_wavelengths_str = [str(x) for x in boruta_top_features[\"Features\"]]\n",
    "\n",
    "# Convert to dataframe for BORUTA + RF\n",
    "df_selected_wv_boruta = pd.concat([X_binary.loc[:, boruta_wavelengths_str], y_binary.rename('target_y')], axis=1)"
   ],
   "metadata": {
    "collapsed": false,
    "pycharm": {
     "name": "#%%\n"
    }
   }
  },
  {
   "cell_type": "code",
   "execution_count": null,
   "outputs": [],
   "source": [
    "# Set the figure size\n",
    "f, ax = plt.subplots(figsize=(10, 8))\n",
    "\n",
    "# Tight layout\n",
    "f.tight_layout()\n",
    "\n",
    "# Plot\n",
    "plot_wv_ensemble_spectral(df_dataset, all_union, boruta_wavelengths, None, i, k)\n",
    "\n",
    "bbox = matplotlib.transforms.Bbox([[-0.45, -1.3], [11.45, 8.56]])\n",
    "if not os.path.exists(str(i) + '_' + str(k) + '_2_BORUTARF_fs.png'):\n",
    "    f.savefig(os.getcwd() + '/' +  str(i) + '_' + str(k) + '_2_BORUTARF_fs.png', dpi = 1080, bbox_inches =bbox)\n",
    "plt.close()"
   ],
   "metadata": {
    "collapsed": false,
    "pycharm": {
     "name": "#%%\n"
    }
   }
  },
  {
   "cell_type": "code",
   "execution_count": null,
   "outputs": [],
   "source": [
    "# Top 10 Feature\n",
    "\n",
    "# Select top 10 features by f_classif scores using SelectKBest\n",
    "f_clf_scores = SelectKBest(f_classif, k=10).fit(X_binary.loc[:, boruta_wavelengths_str], y_binary)\n",
    "f_clf_wv = boruta_wavelengths[f_clf_scores.get_support()]\n",
    "# To string\n",
    "f_clf_wv_str = [str(x) for x in f_clf_wv]\n",
    "\n",
    "# Save variables\n",
    "dump(f_clf_wv, str(i) + '_' + str(k) + '_ensemble_Col.joblib')\n",
    "\n",
    "# Set the figure size\n",
    "f, ax = plt.subplots(figsize=(10, 8))\n",
    "\n",
    "# Tight layout\n",
    "f.tight_layout()\n",
    "\n",
    "# Plot\n",
    "plot_wv_ensemble_spectral(df_dataset, all_union, boruta_wavelengths, f_clf_wv, i, k)\n",
    "\n",
    "bbox = matplotlib.transforms.Bbox([[-0.45, -1.3], [11.45, 8.56]])\n",
    "if not os.path.exists(str(i) + '_' + str(k) + '_3_Top_emsemble_fs.png'):\n",
    "    f.savefig(os.getcwd() + '/' +  str(i) + '_' + str(k) + '_3_Top_emsemble_fs.png', dpi = 1080, bbox_inches =bbox)\n",
    "plt.close()"
   ],
   "metadata": {
    "collapsed": false,
    "pycharm": {
     "name": "#%%\n"
    }
   }
  },
  {
   "cell_type": "code",
   "execution_count": null,
   "outputs": [],
   "source": [
    "# Select top 10 features by f_classif scores and RANK and REMOVE MULTICOLLINEARITY\n",
    "f_clf_wv_1_idx = top_K_least_correlated(X_binary.loc[:, boruta_wavelengths_str], y_binary, K_features=10, selection = f_classif)\n",
    "f_clf_wv_1 = boruta_wavelengths.values[f_clf_wv_1_idx]\n",
    "# To string\n",
    "f_clf_wv_1_str = [str(x) for x in f_clf_wv_1]\n",
    "\n",
    "# Save variables\n",
    "dump(f_clf_wv_1, str(i) + '_' + str(k) + '_ensemble_noCol.joblib')\n",
    "\n",
    "# Set the figure size\n",
    "f, ax = plt.subplots(figsize=(10, 8))\n",
    "\n",
    "# Tight layout\n",
    "f.tight_layout()\n",
    "\n",
    "# Plot\n",
    "plot_wv_ensemble_spectral(df_dataset, all_union, boruta_wavelengths, f_clf_wv_1, i, k)\n",
    "\n",
    "bbox = matplotlib.transforms.Bbox([[-0.45, -1.3], [11.45, 8.56]])\n",
    "if not os.path.exists(str(i) + '_' + str(k) + '_3_Top_emsemble_fs_1.png'):\n",
    "    f.savefig(os.getcwd() + '/' +  str(i) + '_' + str(k) + '_3_Top_emsemble_fs_1.png', dpi = 1080, bbox_inches =bbox)\n",
    "plt.close()"
   ],
   "metadata": {
    "collapsed": false,
    "pycharm": {
     "name": "#%%\n"
    }
   }
  },
  {
   "cell_type": "markdown",
   "source": [
    "#### SHAP Interaction"
   ],
   "metadata": {
    "collapsed": false,
    "pycharm": {
     "name": "#%% md\n"
    }
   }
  },
  {
   "cell_type": "code",
   "execution_count": null,
   "outputs": [],
   "source": [
    "# SHAP\n",
    "\n",
    "# Calculate SHAP interaction for individual contributions to prediction\n",
    "X_binary_shap_1 = X_binary.loc[:, f_clf_wv_1_str]\n",
    "\n",
    "#Train model\n",
    "model_shap_rf_1 = RandomForestClassifier(n_estimators=100, class_weight='balanced', max_depth=5,\n",
    "                                         random_state=random_state, n_jobs=-1)\n",
    "model_shap_rf_1.fit(X_binary_shap_1, y_binary)\n",
    "\n",
    "# SHAP values\n",
    "shap_explainer_rf_1 = shap.TreeExplainer(model_shap_rf_1)\n",
    "shap_values_rf_1 = shap_explainer_rf_1.shap_values(X_binary_shap_1)\n",
    "# Sort shap features\n",
    "vals = np.abs(shap_values_rf_1[1]).mean(0)\n",
    "feature_importance = pd.DataFrame(list(zip(f_clf_wv_1_str, vals)),\n",
    "                                  columns=['col_wavelengths', 'feature_importance_vals'])\n",
    "feature_importance.sort_values(by=['feature_importance_vals'], ascending=False, inplace=True)\n",
    "# Rank\n",
    "shap_wv_rank = X_binary_shap_1.columns[np.argsort(-np.abs(shap_values_rf_1[1]).mean(0))].values\n",
    "print('Shape Feature Rank: ', shap_wv_rank)\n",
    "# Plot bar plot\n",
    "# Set the figure size\n",
    "f, ax = plt.subplots(figsize=(10, 8))\n",
    "# Tight layout\n",
    "f.tight_layout()\n",
    "# Plot\n",
    "shap.summary_plot(shap_values_rf_1, X_binary_shap_1, plot_type='bar')\n",
    "bbox = matplotlib.transforms.Bbox([[-0.2, -0.2], [8.5, 6]])\n",
    "\n",
    "# Save figure\n",
    "if not os.path.exists(str(i) + '_' + str(k) + '_SHAP_bar_noCol.png'):\n",
    "    f.savefig(os.getcwd() + '/' + str(i) + '_' + str(k) + '_SHAP_bar_noCol.png', dpi=1080, bbox_inches=bbox)\n",
    "# Plot bar plot\n",
    "\n",
    "# Set the figure size\n",
    "f, ax = plt.subplots(figsize=(10, 8))\n",
    "# Tight layout\n",
    "f.tight_layout()\n",
    "# Plot\n",
    "shap.summary_plot(shap_values_rf_1[1], X_binary_shap_1)\n",
    "bbox = matplotlib.transforms.Bbox([[-0.2, -0.2], [8, 6]])\n",
    "\n",
    "# Save figure\n",
    "if not os.path.exists(str(i) + '_' + str(k) + '_SHAP_beeswarm_noCol.png'):\n",
    "    f.savefig(os.getcwd() + '/' + str(i) + '_' + str(k) + '_SHAP_beeswarm_noCol.png', dpi=1080, bbox_inches=bbox)"
   ],
   "metadata": {
    "collapsed": false,
    "pycharm": {
     "name": "#%%\n"
    }
   }
  },
  {
   "cell_type": "markdown",
   "source": [
    "#### LDA Classification Accuracy nFeatures"
   ],
   "metadata": {
    "collapsed": false,
    "pycharm": {
     "name": "#%% md\n"
    }
   }
  },
  {
   "cell_type": "code",
   "execution_count": null,
   "outputs": [],
   "source": [
    "# Calculate clf accuracy\n",
    "\n",
    "# Can calculate balanced and f1 scores at the same time\n",
    "\n",
    "# Now only include classification accuracy\n",
    "\n",
    "# Define cross validation\n",
    "random_state = 42\n",
    "cv = RepeatedStratifiedKFold(n_splits=10, n_repeats=10, random_state=random_state)\n",
    "shap_select_X_binary = X_binary.loc[:, shap_wv_rank]\n",
    "\n",
    "all_lda_scores = []\n",
    "all_lda_stdev = []\n",
    "for wv in range(len(shap_wv_rank)):\n",
    "    # Define LDA model\n",
    "    model = LinearDiscriminantAnalysis()\n",
    "\n",
    "    # Calculate clf accuracy cv\n",
    "    print('Number of Features: ', wv + 1)\n",
    "    lda_cv_scores, _, _ = clf_accuracy_eval(shap_select_X_binary.iloc[:, 0:wv + 1], y_binary, model, cv)\n",
    "    all_lda_scores.append(np.mean(lda_cv_scores))\n",
    "    all_lda_stdev.append(np.std(lda_cv_scores))\n",
    "# Save\n",
    "dump(all_lda_scores, str(i) + '_' + str(k) + '_LDA_accuracy_nFeatures_train.joblib')\n",
    "dump(all_lda_stdev, str(i) + '_' + str(k) + '_LDA_stdev_nFeatures_train.joblib')\n",
    "\n",
    "# plot Clf Accuracy vs. Number of Features\n",
    "\n",
    "# Set the figure size\n",
    "f, ax = plt.subplots(figsize=(8, 6))\n",
    "# Tight layout\n",
    "f.tight_layout()\n",
    "\n",
    "# Plot\n",
    "plt.plot(np.linspace(1, len(shap_wv_rank), len(shap_wv_rank)), all_lda_scores, '--', lw=2.5)\n",
    "plt.errorbar(np.linspace(1, len(shap_wv_rank), len(shap_wv_rank)), all_lda_scores, yerr=all_lda_stdev,\n",
    "             fmt='o', capsize=1.5)\n",
    "xlabels = ['0'] + shap_wv_rank.tolist()\n",
    "plt.xticks(np.arange(0, len(shap_wv_rank) + 1, 1), xlabels)\n",
    "# Set figure object\n",
    "ax.set_title('Classification Accuracy vs. Number of Wavelengths for ' + str(i) + ' vs. ' + str(k))\n",
    "ax.set_xlabel('Wavelengths Included (nm)')\n",
    "ax.set_ylabel('LDA Clf Accuracy')\n",
    "bbox = matplotlib.transforms.Bbox([[-0.4, -0.4], [8.5, 6.5]])\n",
    "\n",
    "# Save figure\n",
    "if not os.path.exists(str(i) + '_' + str(k) + '_LDA_accuracy_nFeatures_train.png'):\n",
    "    f.savefig(os.getcwd() + '/' + str(i) + '_' + str(k) + '_LDA_accuracy_nFeatures_train.png', dpi=1080,\n",
    "              bbox_inches=bbox)\n",
    "# Calculate clf accuracy\n",
    "\n",
    "# Define cross validation\n",
    "random_state = 42\n",
    "cv = RepeatedStratifiedKFold(n_splits=10, n_repeats=10, random_state=random_state)\n",
    "shap_select_X_binary = X_val_all.loc[:, shap_wv_rank]\n",
    "\n",
    "all_lda_scores = []\n",
    "all_lda_stdev = []\n",
    "for wv in range(len(shap_wv_rank)):\n",
    "    # Define LDA model\n",
    "    model = LinearDiscriminantAnalysis()\n",
    "\n",
    "    # Calculate clf accuracy cv\n",
    "    print('Number of Features: ', wv + 1)\n",
    "    lda_cv_scores, _, _ = clf_accuracy_eval(shap_select_X_binary.iloc[:, 0:wv + 1], y_val_all, model, cv)\n",
    "    all_lda_scores.append(np.mean(lda_cv_scores))\n",
    "    all_lda_stdev.append(np.std(lda_cv_scores))\n",
    "# Save\n",
    "dump(all_lda_scores, str(i) + '_' + str(k) + '_LDA_accuracy_nFeatures_val.joblib')\n",
    "dump(all_lda_stdev, str(i) + '_' + str(k) + '_LDA_stdev_nFeatures_val.joblib')\n",
    "\n",
    "# plot Clf Accuracy vs. Number of Features\n",
    "\n",
    "# Set the figure size\n",
    "f, ax = plt.subplots(figsize=(8, 6))\n",
    "# Tight layout\n",
    "f.tight_layout()\n",
    "\n",
    "# Plot\n",
    "plt.plot(np.linspace(1, len(shap_wv_rank), len(shap_wv_rank)), all_lda_scores, '--', lw=2.5)\n",
    "plt.errorbar(np.linspace(1, len(shap_wv_rank), len(shap_wv_rank)), all_lda_scores, yerr=all_lda_stdev,\n",
    "             fmt='o', capsize=1.5)\n",
    "xlabels = ['0'] + shap_wv_rank.tolist()\n",
    "plt.xticks(np.arange(0, len(shap_wv_rank) + 1, 1), xlabels)\n",
    "# Set figure object\n",
    "ax.set_title('Classification Accuracy vs. Number of Wavelengths for ' + str(i) + ' vs. ' + str(k))\n",
    "ax.set_xlabel('Wavelengths Included (nm)')\n",
    "ax.set_ylabel('LDA Clf Accuracy')\n",
    "bbox = matplotlib.transforms.Bbox([[-0.4, -0.4], [8.5, 6.5]])\n",
    "\n",
    "# Save figure\n",
    "if not os.path.exists(str(i) + '_' + str(k) + '_LDA_accuracy_nFeatures_val.png'):\n",
    "    f.savefig(os.getcwd() + '/' + str(i) + '_' + str(k) + '_LDA_accuracy_nFeatures_val.png', dpi=1080,\n",
    "              bbox_inches=bbox)"
   ],
   "metadata": {
    "collapsed": false,
    "pycharm": {
     "name": "#%%\n"
    }
   }
  },
  {
   "cell_type": "markdown",
   "source": [
    "#### The OVR Approach"
   ],
   "metadata": {
    "collapsed": false,
    "pycharm": {
     "name": "#%% md\n"
    }
   }
  },
  {
   "cell_type": "code",
   "execution_count": null,
   "outputs": [],
   "source": [
    "# Change to save_path\n",
    "os.chdir(save_path)\n",
    "os.chdir('YOUR SAVE PATH - SUBFOLDER')\n",
    "print(os.getcwd())"
   ],
   "metadata": {
    "collapsed": false,
    "pycharm": {
     "name": "#%%\n"
    }
   }
  },
  {
   "cell_type": "code",
   "execution_count": null,
   "outputs": [],
   "source": [
    "# Define dataset\n",
    "\n",
    "df_dataset = df_smooth\n",
    "spectral_range = col_wavelengths\n",
    "\n",
    "# df_dataset = df_smooth_vis\n",
    "# spectral_range = col_wavelengths_vis\n",
    "\n",
    "# df_dataset = df_smooth_vis_nir\n",
    "# spectral_range = col_wavelengths_vis_nir\n",
    "\n",
    "#df_dataset = df_smooth_swir\n",
    "#df_dataset = df_snv_smooth\n",
    "\n",
    "tissue_types = tissue_types\n",
    "\n",
    "# Set global random state\n",
    "random_state = 42\n",
    "\n",
    "# Define cross validation\n",
    "cv = RepeatedStratifiedKFold(n_splits=10, n_repeats=10, random_state=random_state)\n",
    "\n",
    "# Bone Cement = 1 vs. [Cortical Bone, Trabecular Bone, Cartilage, Bone Marrow] = 0\n",
    "# i = 'boneCement'\n",
    "# k_1 = 'cortBone'\n",
    "# k_2 = 'traBone'\n",
    "# k_3 = 'cartilage'\n",
    "# k_4 = 'boneMarrow'\n",
    "\n",
    "# Cortical Bone = 1 vs. [Trabecular Bone, Cartilage, Bone Marrow, Muscle] = 0\n",
    "i = 'cortBone'\n",
    "k_1 = 'traBone'\n",
    "k_2 = 'muscle'\n",
    "k_3 = 'cartilage'\n",
    "k_4 = 'boneMarrow'"
   ],
   "metadata": {
    "collapsed": false,
    "pycharm": {
     "name": "#%%\n"
    }
   }
  },
  {
   "cell_type": "code",
   "execution_count": null,
   "outputs": [],
   "source": [
    "print('First Label: ', i)\n",
    "#print('Second Label: ',k)\n",
    "print('Second Label: ' + k_1 + ', ' + k_2 + ', ' + k_3 + ', ' + k_4)\n",
    "\n",
    "# Data selection for multiple tissue types\n",
    "df_subset_ovr = df_dataset[df_dataset['target_y'].isin([i,k_1,k_2,k_3,k_4])]\n",
    "binary_subset = df_dataset[df_dataset['target_y'].isin([i,k_1,k_2,k_3,k_4])]\n",
    "binary_subset.loc[df['target_y'].isin([k_1, k_2, k_3, k_4]), 'target_y'] = 'rest'\n",
    "binary_subset.loc[df['target_y'].isin([i]), 'target_y'] = i\n",
    "k = 'rest'\n",
    "\n",
    "# Features\n",
    "X_binary_init = binary_subset.drop(['target_y'], axis=1)\n",
    "# Target\n",
    "y_binary_init = binary_subset['target_y']\n",
    "# Convert to 0 and 1 - i = 1, k = 0\n",
    "y_binary_init = (y_binary_init == i).astype('uint8')\n",
    "\n",
    "# Split Train Test Validation set\n",
    "X_binary, X_val_all, y_binary, y_val_all = train_test_split(X_binary_init, y_binary_init,\n",
    "                                                            test_size=0.2, stratify=y_binary_init, random_state=random_state)\n",
    "\n",
    "# Save train test sets\n",
    "# dump(X_binary, str(i) + '_' + str(k) + '_X_binary.joblib')\n",
    "# dump(X_val_all, str(i) + '_' + str(k) + '_X_val_all.joblib')\n",
    "# dump(y_binary, str(i) + '_' + str(k) + '_y_binary.joblib')\n",
    "# dump(y_val_all, str(i) + '_' + str(k) + '_y_val_all.joblib')"
   ],
   "metadata": {
    "collapsed": false,
    "pycharm": {
     "name": "#%%\n"
    }
   }
  },
  {
   "cell_type": "markdown",
   "source": [
    "#### Univariate Filtering"
   ],
   "metadata": {
    "collapsed": false,
    "pycharm": {
     "name": "#%% md\n"
    }
   }
  },
  {
   "cell_type": "code",
   "execution_count": null,
   "outputs": [],
   "source": [
    "# Univariate Filtering\n",
    "\n",
    "# Define the number of features to be selected from each filter method\n",
    "fraction = 0.2\n",
    "K_features = math.floor(len(spectral_range) * fraction)\n",
    "print('The number of features to be selected: ', K_features)\n",
    "\n",
    "# mRMR\n",
    "selected_wv_mrmr = mrmr_classif(X_binary, y_binary, K=K_features) #, show_progress=False\n",
    "selected_wv_mrmr = np.float64(selected_wv_mrmr)\n",
    "\n",
    "# reliefF\n",
    "relief_F_model = skr.ReliefF(n_features_to_select=K_features, n_neighbors=20)\n",
    "relief_F_scores = relief_F_model.fit(X_binary.values, y_binary.values)\n",
    "# Find the selected wavelengths\n",
    "idx_relieff = relief_F_scores.top_features_\n",
    "selected_wv_relieff = spectral_range[idx_relieff[:K_features]]\n",
    "\n",
    "# Mutual information\n",
    "mi_scores = SelectKBest(mutual_info_classif, k=K_features).fit(X_binary, y_binary)\n",
    "# Find the selected wavelengths\n",
    "selected_wv_mi = spectral_range[mi_scores.get_support()]\n",
    "\n",
    "# Fine the union of the selected wavelengths from mRMR, reliefF, Mutual Information\n",
    "all_union = list(set(selected_wv_mrmr) | set(selected_wv_relieff) | set(selected_wv_mi))\n",
    "all_union_str = [str(x) for x in np.sort(all_union)]\n",
    "print('The Selected Wavelengths from Union: ', len(all_union_str))\n",
    "\n",
    "# Selected wavelengths\n",
    "selected_X_binary = X_binary.loc[:, all_union_str].values\n",
    "\n",
    "# Plot union of the three filter methods\n",
    "plot_wv_ensemble(spectral_range, selected_wv_mrmr, selected_wv_relieff, selected_wv_mi, all_union, None, None, True, i, k)"
   ],
   "metadata": {
    "collapsed": false,
    "pycharm": {
     "name": "#%%\n"
    }
   }
  },
  {
   "cell_type": "code",
   "execution_count": null,
   "outputs": [],
   "source": [
    "# Set the figure size\n",
    "f, ax = plt.subplots(figsize=(10, 8))\n",
    "\n",
    "# Tight layout\n",
    "f.tight_layout()\n",
    "\n",
    "# Plot\n",
    "plot_wv_ensemble_spectral_ovr(df_subset_ovr, spectral_range, all_union, None, None, i, k)\n",
    "\n",
    "bbox = matplotlib.transforms.Bbox([[-0.45, -1.3], [11.45, 8.56]])\n",
    "if not os.path.exists(str(i) + '_' + str(k) + '_1_UNION_fs.png'):\n",
    "    f.savefig(os.getcwd() + '/' +  str(i) + '_' + str(k) + '_1_UNION_fs.png', dpi = 1080, bbox_inches =bbox)\n",
    "plt.close()"
   ],
   "metadata": {
    "collapsed": false,
    "pycharm": {
     "name": "#%%\n"
    }
   }
  },
  {
   "cell_type": "markdown",
   "source": [
    "#### BORUTA - RF"
   ],
   "metadata": {
    "collapsed": false,
    "pycharm": {
     "name": "#%% md\n"
    }
   }
  },
  {
   "cell_type": "code",
   "execution_count": null,
   "outputs": [],
   "source": [
    "# BORUTA - RF\n",
    "\n",
    "# Boruta feature selection - ALL\n",
    "\n",
    "# Track timestamp - elapsed time\n",
    "start_time = time.time()\n",
    "\n",
    "# Define boruta estimator\n",
    "boruta_model = RandomForestClassifier(n_estimators=100, class_weight='balanced',\n",
    "                                      random_state=random_state, n_jobs=-1)\n",
    "\n",
    "# Define boruta feature selector\n",
    "fs_boruta = BorutaPy(estimator=boruta_model, n_estimators='auto', perc=100, max_iter=200, verbose=0,\n",
    "                     random_state=random_state)\n",
    "\n",
    "# Fit boruta feature selector\n",
    "fs_boruta.fit(selected_X_binary, y_binary)\n",
    "\n",
    "# End timestamp\n",
    "end_time = time.time()\n",
    "print('Time to run: ', end_time - start_time, ' seconds')\n",
    "\n",
    "# Rank Boruta selected features\n",
    "selected_boruta_features = pd.DataFrame({'Features': all_union_str,\n",
    "                                         'Ranking': fs_boruta.ranking_})\n",
    "selected_boruta_features.sort_values(by='Ranking')\n",
    "\n",
    "# Select TOP boruta selected features\n",
    "boruta_top_features = selected_boruta_features[selected_boruta_features[\"Ranking\"] == 1]\n",
    "print('The Number of Selected Wavelengths from BORUTA + RF: ', len(boruta_top_features))\n",
    "\n",
    "# Find the selected wavelengths in STR and FLOAT\n",
    "boruta_wavelengths = boruta_top_features[\"Features\"].astype(np.float64)\n",
    "boruta_wavelengths_str = [str(x) for x in boruta_top_features[\"Features\"]]\n",
    "\n",
    "# Convert to dataframe for BORUTA + RF\n",
    "df_selected_wv_boruta = pd.concat([X_binary.loc[:, boruta_wavelengths_str], y_binary.rename('target_y')], axis=1)\n"
   ],
   "metadata": {
    "collapsed": false,
    "pycharm": {
     "name": "#%%\n"
    }
   }
  },
  {
   "cell_type": "code",
   "execution_count": null,
   "outputs": [],
   "source": [
    "# Plot the selected wavelengths from BORUTA + RF\n",
    "\n",
    "# Set the figure size\n",
    "f, ax = plt.subplots(figsize=(10, 8))\n",
    "\n",
    "# Tight layout\n",
    "f.tight_layout()\n",
    "\n",
    "# Plot\n",
    "plot_wv_ensemble_spectral_ovr(df_subset_ovr, spectral_range, all_union, boruta_wavelengths, None, i, k)\n",
    "\n",
    "bbox = matplotlib.transforms.Bbox([[-0.45, -1.3], [11.45, 8.56]])\n",
    "if not os.path.exists(str(i) + '_' + str(k) + '_2_BORUTARF_fs_1.png'):\n",
    "    f.savefig(os.getcwd() + '/' + str(i) + '_' + str(k) + '_2_BORUTARF_fs_1.png', dpi=1080, bbox_inches=bbox)\n",
    "plt.close()"
   ],
   "metadata": {
    "collapsed": false,
    "pycharm": {
     "name": "#%%\n"
    }
   }
  },
  {
   "cell_type": "markdown",
   "source": [
    "#### Top 10 Features"
   ],
   "metadata": {
    "collapsed": false,
    "pycharm": {
     "name": "#%% md\n"
    }
   }
  },
  {
   "cell_type": "code",
   "execution_count": null,
   "outputs": [],
   "source": [
    "# Top 10 Features\n",
    "\n",
    "# Select top 10 features by f_classif scores using SelectKBest\n",
    "f_clf_scores = SelectKBest(f_classif, k=10).fit(X_binary.loc[:, boruta_wavelengths_str], y_binary)\n",
    "f_clf_wv = boruta_wavelengths[f_clf_scores.get_support()]\n",
    "# To string\n",
    "f_clf_wv_str = [str(x) for x in f_clf_wv]\n",
    "\n",
    "# Save variables\n",
    "dump(f_clf_wv, str(i) + '_' + str(k) + '_ensemble_Col.joblib')\n",
    "# Plot these top 10 features\n",
    "# Set the figure size\n",
    "f, ax = plt.subplots(figsize=(10, 8))\n",
    "\n",
    "# Tight layout\n",
    "f.tight_layout()\n",
    "\n",
    "# Plot\n",
    "plot_wv_ensemble_spectral_ovr(df_subset_ovr, spectral_range, all_union, boruta_wavelengths, f_clf_wv, i, k)\n",
    "\n",
    "bbox = matplotlib.transforms.Bbox([[-0.45, -1.3], [11.45, 8.56]])\n",
    "if not os.path.exists(str(i) + '_' + str(k) + '_3_Top_emsemble_fs_Col.png'):\n",
    "    f.savefig(os.getcwd() + '/' + str(i) + '_' + str(k) + '_3_Top_emsemble_fs_Col.png', dpi=1080, bbox_inches=bbox)\n",
    "plt.close()"
   ],
   "metadata": {
    "collapsed": false,
    "pycharm": {
     "name": "#%%\n"
    }
   }
  },
  {
   "cell_type": "code",
   "execution_count": null,
   "outputs": [],
   "source": [
    "# Select top 10 features by f_classif scores and RANK and REMOVE MULTICOLLINEARITY\n",
    "f_clf_wv_1_idx = top_K_least_correlated(X_binary.loc[:, boruta_wavelengths_str], y_binary, K_features=10,\n",
    "                                        selection=f_classif)\n",
    "f_clf_wv_1 = boruta_wavelengths.values[f_clf_wv_1_idx]\n",
    "# To string\n",
    "f_clf_wv_1_str = [str(x) for x in f_clf_wv_1]\n",
    "\n",
    "# Save variables\n",
    "dump(f_clf_wv_1, str(i) + '_' + str(k) + '_ensemble_noCol.joblib')\n",
    "# Plot these top 10 features\n",
    "# Set the figure size\n",
    "f, ax = plt.subplots(figsize=(10, 8))\n",
    "\n",
    "# Tight layout\n",
    "f.tight_layout()\n",
    "\n",
    "# Plot\n",
    "plot_wv_ensemble_spectral_ovr(df_subset_ovr, spectral_range, all_union, boruta_wavelengths, f_clf_wv_1, i, k)\n",
    "\n",
    "bbox = matplotlib.transforms.Bbox([[-0.45, -1.3], [11.45, 8.56]])\n",
    "if not os.path.exists(str(i) + '_' + str(k) + '_3_Top_emsemble_fs_noCol.png'):\n",
    "    f.savefig(os.getcwd() + '/' + str(i) + '_' + str(k) + '_3_Top_emsemble_fs_noCol.png', dpi=1080, bbox_inches=bbox)\n",
    "plt.close()"
   ],
   "metadata": {
    "collapsed": false,
    "pycharm": {
     "name": "#%%\n"
    }
   }
  },
  {
   "cell_type": "markdown",
   "source": [
    "#### SHAP Interaction"
   ],
   "metadata": {
    "collapsed": false,
    "pycharm": {
     "name": "#%% md\n"
    }
   }
  },
  {
   "cell_type": "code",
   "execution_count": null,
   "outputs": [],
   "source": [
    "# SHAP\n",
    "\n",
    "# Calculate SHAP interaction for individual contributions to prediction - Remove Colinearity\n",
    "X_binary_shap_1 = X_binary.loc[:, f_clf_wv_1_str]\n",
    "\n",
    "#Train model\n",
    "model_shap_rf_1 = RandomForestClassifier(n_estimators=100, class_weight='balanced', max_depth=5,\n",
    "                                         random_state=random_state, n_jobs=-1)\n",
    "model_shap_rf_1.fit(X_binary_shap_1, y_binary)\n",
    "\n",
    "# SHAP values\n",
    "shap_explainer_rf_1 = shap.TreeExplainer(model_shap_rf_1)\n",
    "shap_values_rf_1 = shap_explainer_rf_1.shap_values(X_binary_shap_1)\n",
    "\n",
    "# Sort shap features\n",
    "vals = np.abs(shap_values_rf_1[1]).mean(0)\n",
    "feature_importance = pd.DataFrame(list(zip(f_clf_wv_1_str, vals)),\n",
    "                                  columns=['col_wavelengths', 'feature_importance_vals'])\n",
    "feature_importance.sort_values(by=['feature_importance_vals'], ascending=False, inplace=True)\n",
    "\n",
    "# Rank\n",
    "shap_wv_rank_1 = X_binary_shap_1.columns[np.argsort(-np.abs(shap_values_rf_1[1]).mean(0))].values\n",
    "print('Shape Feature Rank: ', shap_wv_rank_1)\n",
    "# Plot bar plot\n",
    "# Set the figure size\n",
    "f, ax = plt.subplots(figsize=(10, 8))\n",
    "# Tight layout\n",
    "f.tight_layout()\n",
    "# Plot\n",
    "shap.summary_plot(shap_values_rf_1, X_binary_shap_1, plot_type='bar')\n",
    "bbox = matplotlib.transforms.Bbox([[-0.2, -0.2], [8.5, 6]])\n",
    "\n",
    "# Save figure\n",
    "if not os.path.exists(str(i) + '_' + str(k) + '_SHAP_bar_noCol.png'):\n",
    "    f.savefig(os.getcwd() + '/' + str(i) + '_' + str(k) + '_SHAP_bar_noCol.png', dpi=1080, bbox_inches=bbox)\n",
    "\n",
    "# Plot beeswarm plot\n",
    "\n",
    "# Set the figure size\n",
    "f, ax = plt.subplots(figsize=(10, 8))\n",
    "# Tight layout\n",
    "f.tight_layout()\n",
    "# Plot\n",
    "shap.summary_plot(shap_values_rf_1[1], X_binary_shap_1)\n",
    "bbox = matplotlib.transforms.Bbox([[-0.2, -0.2], [8, 6]])\n",
    "\n",
    "# Save figure\n",
    "if not os.path.exists(str(i) + '_' + str(k) + '_SHAP_beeswarm_noCol.png'):\n",
    "    f.savefig(os.getcwd() + '/' + str(i) + '_' + str(k) + '_SHAP_beeswarm_noCol.png', dpi=1080, bbox_inches=bbox)"
   ],
   "metadata": {
    "collapsed": false,
    "pycharm": {
     "name": "#%%\n"
    }
   }
  },
  {
   "cell_type": "code",
   "execution_count": null,
   "outputs": [],
   "source": [
    "# Calculate SHAP interaction for individual contributions to prediction - with Colinearity\n",
    "X_binary_shap = X_binary.loc[:, f_clf_wv_str]\n",
    "\n",
    "#Train model\n",
    "model_shap_rf = RandomForestClassifier(n_estimators=100, class_weight='balanced', max_depth=5,\n",
    "                                       random_state=random_state, n_jobs=-1)\n",
    "model_shap_rf.fit(X_binary_shap, y_binary)\n",
    "\n",
    "# SHAP values\n",
    "shap_explainer_rf = shap.TreeExplainer(model_shap_rf)\n",
    "shap_values_rf = shap_explainer_rf.shap_values(X_binary_shap)\n",
    "\n",
    "# Sort shap features\n",
    "vals = np.abs(shap_values_rf[1]).mean(0)\n",
    "feature_importance = pd.DataFrame(list(zip(f_clf_wv_str, vals)),\n",
    "                                  columns=['col_wavelengths', 'feature_importance_vals'])\n",
    "feature_importance.sort_values(by=['feature_importance_vals'], ascending=False, inplace=True)\n",
    "\n",
    "# Rank\n",
    "shap_wv_rank = X_binary_shap.columns[np.argsort(-np.abs(shap_values_rf[1]).mean(0))].values\n",
    "print('Shape Feature Rank: ', shap_wv_rank)\n",
    "# Plot bar plot\n",
    "# Set the figure size\n",
    "f, ax = plt.subplots(figsize=(10, 8))\n",
    "# Tight layout\n",
    "f.tight_layout()\n",
    "# Plot\n",
    "shap.summary_plot(shap_values_rf, X_binary_shap, plot_type='bar')\n",
    "bbox = matplotlib.transforms.Bbox([[-0.2, -0.2], [8.5, 6]])\n",
    "\n",
    "# Save figure\n",
    "if not os.path.exists(str(i) + '_' + str(k) + '_SHAP_bar_Col.png'):\n",
    "    f.savefig(os.getcwd() + '/' + str(i) + '_' + str(k) + '_SHAP_bar_Col.png', dpi=1080, bbox_inches=bbox)\n",
    "# Plot beeswarm plot\n",
    "\n",
    "# Set the figure size\n",
    "f, ax = plt.subplots(figsize=(10, 8))\n",
    "# Tight layout\n",
    "f.tight_layout()\n",
    "# Plot\n",
    "shap.summary_plot(shap_values_rf[1], X_binary_shap)\n",
    "bbox = matplotlib.transforms.Bbox([[-0.2, -0.2], [8, 6]])\n",
    "\n",
    "# Save figure\n",
    "if not os.path.exists(str(i) + '_' + str(k) + '_SHAP_beeswarm_Col.png'):\n",
    "    f.savefig(os.getcwd() + '/' + str(i) + '_' + str(k) + '_SHAP_beeswarm_Col.png', dpi=1080, bbox_inches=bbox)"
   ],
   "metadata": {
    "collapsed": false,
    "pycharm": {
     "name": "#%%\n"
    }
   }
  },
  {
   "cell_type": "markdown",
   "source": [
    "#### LDA Classification Accuracy nFeatures"
   ],
   "metadata": {
    "collapsed": false,
    "pycharm": {
     "name": "#%% md\n"
    }
   }
  },
  {
   "cell_type": "code",
   "execution_count": null,
   "outputs": [],
   "source": [
    "# Calculate clf accuracy\n",
    "\n",
    "shap_rank_fea = shap_wv_rank_1\n",
    "\n",
    "# Define cross validation\n",
    "random_state = 42\n",
    "cv = RepeatedStratifiedKFold(n_splits=10, n_repeats=10, random_state=random_state)\n",
    "shap_select_X_binary = X_binary.loc[:, shap_rank_fea]\n",
    "\n",
    "# Initiate all balanced accuracy scores\n",
    "all_balanced_accuracy_scores = []\n",
    "all_balanced_accuracy_stdev = []\n",
    "# Initiate all f1 scores\n",
    "all_f1_scores = []\n",
    "all_f1_stdev = []\n",
    "\n",
    "for wv in range(len(shap_rank_fea)):\n",
    "    # Define LDA model\n",
    "    model = LinearDiscriminantAnalysis()\n",
    "\n",
    "    # Calculate clf accuracy cv\n",
    "    print('Number of Features: ', wv + 1)\n",
    "    _, lda_balanced_accuracy_scores, lda_f1_scores = clf_accuracy_eval(shap_select_X_binary.iloc[:, 0:wv + 1], y_binary,\n",
    "                                                                       model, cv)\n",
    "    # Store all balanced accuracy scores\n",
    "    all_balanced_accuracy_scores.append(np.mean(lda_balanced_accuracy_scores))\n",
    "    all_balanced_accuracy_stdev.append(np.std(lda_balanced_accuracy_scores))\n",
    "    # Store all f1 scores\n",
    "    all_f1_scores.append(np.mean(lda_f1_scores))\n",
    "    all_f1_stdev.append(np.std(lda_f1_scores))\n",
    "\n",
    "# Save\n",
    "dump(all_balanced_accuracy_scores, str(i) + '_' + str(k) + '_LDA_balanced_train_noCol.joblib')\n",
    "dump(all_balanced_accuracy_stdev, str(i) + '_' + str(k) + '_LDA_balanced_stdev_train_noCol.joblib')\n",
    "dump(all_f1_scores, str(i) + '_' + str(k) + '_LDA_f1_train_noCol.joblib')\n",
    "dump(all_f1_stdev, str(i) + '_' + str(k) + '_LDA_f1_stdev_train_noCol.joblib')\n",
    "# plot Clf Balanced Accuracy vs. Number of Features\n",
    "\n",
    "# Set the figure size\n",
    "f, ax = plt.subplots(figsize=(8, 6))\n",
    "# Tight layout\n",
    "f.tight_layout()\n",
    "\n",
    "# Plot\n",
    "plt.plot(np.linspace(1, len(shap_rank_fea), len(shap_rank_fea)), all_balanced_accuracy_scores, '--', lw=2.5)\n",
    "plt.errorbar(np.linspace(1, len(shap_rank_fea), len(shap_rank_fea)), all_balanced_accuracy_scores,\n",
    "             yerr=all_balanced_accuracy_stdev,\n",
    "             fmt='o', capsize=1.5)\n",
    "xlabels = ['0'] + shap_rank_fea.tolist()\n",
    "plt.xticks(np.arange(0, len(shap_rank_fea) + 1, 1), xlabels)\n",
    "# Set figure object\n",
    "ax.set_title('Balanced Accuracy vs. Number of Wavelengths for ' + str(i) + ' vs. ' + str(k))\n",
    "ax.set_xlabel('Wavelengths Included (nm)')\n",
    "ax.set_ylabel('LDA Clf Balanced Accuracy')\n",
    "bbox = matplotlib.transforms.Bbox([[-0.4, -0.4], [8.5, 6.5]])\n",
    "\n",
    "# Save figure\n",
    "if not os.path.exists(str(i) + '_' + str(k) + '_LDA_balanced_train_noCol.png'):\n",
    "    f.savefig(os.getcwd() + '/' + str(i) + '_' + str(k) + '_LDA_balanced_train_noCol.png', dpi=1080,\n",
    "              bbox_inches=bbox)\n",
    "plt.close()\n",
    "\n",
    "# plot Clf F1 Scores vs. Number of Features\n",
    "\n",
    "# Set the figure size\n",
    "f, ax = plt.subplots(figsize=(8, 6))\n",
    "# Tight layout\n",
    "f.tight_layout()\n",
    "\n",
    "# Plot\n",
    "plt.plot(np.linspace(1, len(shap_rank_fea), len(shap_rank_fea)), all_f1_scores, '--', lw=2.5)\n",
    "plt.errorbar(np.linspace(1, len(shap_rank_fea), len(shap_rank_fea)), all_f1_scores, yerr=all_f1_stdev,\n",
    "             fmt='o', capsize=1.5)\n",
    "xlabels = ['0'] + shap_rank_fea.tolist()\n",
    "plt.xticks(np.arange(0, len(shap_rank_fea) + 1, 1), xlabels)\n",
    "# Set figure object\n",
    "ax.set_title('F1 Scores vs. Number of Wavelengths for ' + str(i) + ' vs. ' + str(k))\n",
    "ax.set_xlabel('Wavelengths Included (nm)')\n",
    "ax.set_ylabel('LDA Clf F1 Score')\n",
    "bbox = matplotlib.transforms.Bbox([[-0.4, -0.4], [8.5, 6.5]])\n",
    "\n",
    "# Save figure\n",
    "if not os.path.exists(str(i) + '_' + str(k) + '_LDA_f1_train_noCol.png'):\n",
    "    f.savefig(os.getcwd() + '/' + str(i) + '_' + str(k) + '_LDA_f1_train_noCol.png', dpi=1080,\n",
    "              bbox_inches=bbox)\n",
    "plt.close()\n",
    "# Calculate clf accuracy\n",
    "\n",
    "# Define cross validation\n",
    "random_state = 42\n",
    "cv = RepeatedStratifiedKFold(n_splits=10, n_repeats=10, random_state=random_state)\n",
    "shap_select_X_binary = X_val_all.loc[:, shap_rank_fea]\n",
    "\n",
    "# Initiate all balanced accuracy scores\n",
    "all_balanced_accuracy_scores = []\n",
    "all_balanced_accuracy_stdev = []\n",
    "# Initiate all f1 scores\n",
    "all_f1_scores = []\n",
    "all_f1_stdev = []\n",
    "\n",
    "for wv in range(len(shap_rank_fea)):\n",
    "    # Define LDA model\n",
    "    model = LinearDiscriminantAnalysis()\n",
    "\n",
    "    # Calculate clf accuracy cv\n",
    "    print('Number of Features: ', wv + 1)\n",
    "    _, lda_balanced_accuracy_scores, lda_f1_scores = clf_accuracy_eval(shap_select_X_binary.iloc[:, 0:wv + 1],\n",
    "                                                                       y_val_all, model, cv)\n",
    "    # Store all balanced accuracy scores\n",
    "    all_balanced_accuracy_scores.append(np.mean(lda_balanced_accuracy_scores))\n",
    "    all_balanced_accuracy_stdev.append(np.std(lda_balanced_accuracy_scores))\n",
    "    # Store all f1 scores\n",
    "    all_f1_scores.append(np.mean(lda_f1_scores))\n",
    "    all_f1_stdev.append(np.std(lda_f1_scores))\n",
    "# Save\n",
    "dump(all_balanced_accuracy_scores, str(i) + '_' + str(k) + '_LDA_balanced_test_noCol.joblib')\n",
    "dump(all_balanced_accuracy_stdev, str(i) + '_' + str(k) + '_LDA_balanced_stdev_test_noCol.joblib')\n",
    "dump(all_f1_scores, str(i) + '_' + str(k) + '_LDA_f1_test_noCol.joblib')\n",
    "dump(all_f1_stdev, str(i) + '_' + str(k) + '_LDA_f1_stdev_test_noCol.joblib')\n",
    "# plot Clf Balanced Accuracy vs. Number of Features\n",
    "\n",
    "# Set the figure size\n",
    "f, ax = plt.subplots(figsize=(8, 6))\n",
    "# Tight layout\n",
    "f.tight_layout()\n",
    "\n",
    "# Plot\n",
    "plt.plot(np.linspace(1, len(shap_rank_fea), len(shap_rank_fea)), all_balanced_accuracy_scores, '--', lw=2.5)\n",
    "plt.errorbar(np.linspace(1, len(shap_rank_fea), len(shap_rank_fea)), all_balanced_accuracy_scores,\n",
    "             yerr=all_balanced_accuracy_stdev,\n",
    "             fmt='o', capsize=1.5)\n",
    "xlabels = ['0'] + shap_rank_fea.tolist()\n",
    "plt.xticks(np.arange(0, len(shap_rank_fea) + 1, 1), xlabels)\n",
    "# Set figure object\n",
    "ax.set_title('Balanced Accuracy vs. Number of Wavelengths for ' + str(i) + ' vs. ' + str(k))\n",
    "ax.set_xlabel('Wavelengths Included (nm)')\n",
    "ax.set_ylabel('LDA Clf Balanced Accuracy')\n",
    "bbox = matplotlib.transforms.Bbox([[-0.4, -0.4], [8.5, 6.5]])\n",
    "\n",
    "# Save figure\n",
    "if not os.path.exists(str(i) + '_' + str(k) + '_LDA_balanced_test_noCol.png'):\n",
    "    f.savefig(os.getcwd() + '/' + str(i) + '_' + str(k) + '_LDA_balanced_test_noCol.png', dpi=1080,\n",
    "              bbox_inches=bbox)\n",
    "plt.close()\n",
    "# plot Clf F1 Scores vs. Number of Features\n",
    "\n",
    "# Set the figure size\n",
    "f, ax = plt.subplots(figsize=(8, 6))\n",
    "# Tight layout\n",
    "f.tight_layout()\n",
    "\n",
    "# Plot\n",
    "plt.plot(np.linspace(1, len(shap_rank_fea), len(shap_rank_fea)), all_f1_scores, '--', lw=2.5)\n",
    "plt.errorbar(np.linspace(1, len(shap_rank_fea), len(shap_rank_fea)), all_f1_scores, yerr=all_f1_stdev,\n",
    "             fmt='o', capsize=1.5)\n",
    "xlabels = ['0'] + shap_rank_fea.tolist()\n",
    "plt.xticks(np.arange(0, len(shap_rank_fea) + 1, 1), xlabels)\n",
    "# Set figure object\n",
    "ax.set_title('F1 Scores vs. Number of Wavelengths for ' + str(i) + ' vs. ' + str(k))\n",
    "ax.set_xlabel('Wavelengths Included (nm)')\n",
    "ax.set_ylabel('LDA Clf F1 Score')\n",
    "bbox = matplotlib.transforms.Bbox([[-0.4, -0.4], [8.5, 6.5]])\n",
    "\n",
    "# Save figure\n",
    "if not os.path.exists(str(i) + '_' + str(k) + '_LDA_f1_test_noCol.png'):\n",
    "    f.savefig(os.getcwd() + '/' + str(i) + '_' + str(k) + '_LDA_f1_test_noCol.png', dpi=1080,\n",
    "              bbox_inches=bbox)\n",
    "plt.close()\n"
   ],
   "metadata": {
    "collapsed": false,
    "pycharm": {
     "name": "#%%\n"
    }
   }
  },
  {
   "cell_type": "code",
   "execution_count": null,
   "outputs": [],
   "source": [
    "# Calculate clf accuracy - with Colinearity\n",
    "\n",
    "# shap_rank_fea = shap_wv_rank\n",
    "shap_rank_fea = shap_wv_rank\n",
    "shap_rank_fea = [str(x) for x in shap_rank_fea]\n",
    "shap_rank_fea = np.array(shap_rank_fea)\n",
    "\n",
    "# Define cross validation\n",
    "random_state = 42\n",
    "cv = RepeatedStratifiedKFold(n_splits=10, n_repeats=10, random_state=random_state)\n",
    "shap_select_X_binary = X_binary.loc[:, shap_rank_fea]\n",
    "\n",
    "# Initiate all balanced accuracy scores\n",
    "all_balanced_accuracy_scores = []\n",
    "all_balanced_accuracy_stdev = []\n",
    "# Initiate all f1 scores\n",
    "all_f1_scores = []\n",
    "all_f1_stdev = []\n",
    "\n",
    "for wv in range(len(shap_rank_fea)):\n",
    "    # Define LDA model\n",
    "    model = LinearDiscriminantAnalysis()\n",
    "\n",
    "    # Calculate clf accuracy cv\n",
    "    print('Number of Features: ', wv + 1)\n",
    "    _, lda_balanced_accuracy_scores, lda_f1_scores = clf_accuracy_eval(shap_select_X_binary.iloc[:, 0:wv + 1], y_binary,\n",
    "                                                                       model, cv)\n",
    "    # Store all balanced accuracy scores\n",
    "    all_balanced_accuracy_scores.append(np.mean(lda_balanced_accuracy_scores))\n",
    "    all_balanced_accuracy_stdev.append(np.std(lda_balanced_accuracy_scores))\n",
    "    # Store all f1 scores\n",
    "    all_f1_scores.append(np.mean(lda_f1_scores))\n",
    "    all_f1_stdev.append(np.std(lda_f1_scores))\n",
    "\n",
    "# Save\n",
    "dump(all_balanced_accuracy_scores, str(i) + '_' + str(k) + '_LDA_balanced_train_Col.joblib')\n",
    "dump(all_balanced_accuracy_stdev, str(i) + '_' + str(k) + '_LDA_balanced_stdev_train_Col.joblib')\n",
    "dump(all_f1_scores, str(i) + '_' + str(k) + '_LDA_f1_train_Col.joblib')\n",
    "dump(all_f1_stdev, str(i) + '_' + str(k) + '_LDA_f1_stdev_train_Col.joblib')\n",
    "\n",
    "# plot Clf Balanced Accuracy vs. Number of Features\n",
    "\n",
    "# Set the figure size\n",
    "f, ax = plt.subplots(figsize=(8, 6))\n",
    "# Tight layout\n",
    "f.tight_layout()\n",
    "\n",
    "# Plot\n",
    "plt.plot(np.linspace(1, len(shap_rank_fea), len(shap_rank_fea)), all_balanced_accuracy_scores, '--', lw=2.5)\n",
    "plt.errorbar(np.linspace(1, len(shap_rank_fea), len(shap_rank_fea)), all_balanced_accuracy_scores,\n",
    "             yerr=all_balanced_accuracy_stdev,\n",
    "             fmt='o', capsize=1.5)\n",
    "xlabels = ['0'] + shap_rank_fea.tolist()\n",
    "plt.xticks(np.arange(0, len(shap_rank_fea) + 1, 1), xlabels)\n",
    "# Set figure object\n",
    "ax.set_title('Balanced Accuracy vs. Number of Wavelengths for ' + str(i) + ' vs. ' + str(k))\n",
    "ax.set_xlabel('Wavelengths Included (nm)')\n",
    "ax.set_ylabel('LDA Clf Balanced Accuracy')\n",
    "bbox = matplotlib.transforms.Bbox([[-0.4, -0.4], [8.5, 6.5]])\n",
    "\n",
    "# Save figure\n",
    "if not os.path.exists(str(i) + '_' + str(k) + '_LDA_balanced_train_Col.png'):\n",
    "    f.savefig(os.getcwd() + '/' + str(i) + '_' + str(k) + '_LDA_balanced_train_Col.png', dpi=1080,\n",
    "              bbox_inches=bbox)\n",
    "plt.close()\n",
    "\n",
    "# plot Clf F1 Scores vs. Number of Features\n",
    "\n",
    "# Set the figure size\n",
    "f, ax = plt.subplots(figsize=(8, 6))\n",
    "# Tight layout\n",
    "f.tight_layout()\n",
    "\n",
    "# Plot\n",
    "plt.plot(np.linspace(1, len(shap_rank_fea), len(shap_rank_fea)), all_f1_scores, '--', lw=2.5)\n",
    "plt.errorbar(np.linspace(1, len(shap_rank_fea), len(shap_rank_fea)), all_f1_scores, yerr=all_f1_stdev,\n",
    "             fmt='o', capsize=1.5)\n",
    "xlabels = ['0'] + shap_rank_fea.tolist()\n",
    "plt.xticks(np.arange(0, len(shap_rank_fea) + 1, 1), xlabels)\n",
    "# Set figure object\n",
    "ax.set_title('F1 Scores vs. Number of Wavelengths for ' + str(i) + ' vs. ' + str(k))\n",
    "ax.set_xlabel('Wavelengths Included (nm)')\n",
    "ax.set_ylabel('LDA Clf F1 Score')\n",
    "bbox = matplotlib.transforms.Bbox([[-0.4, -0.4], [8.5, 6.5]])\n",
    "\n",
    "# Save figure\n",
    "if not os.path.exists(str(i) + '_' + str(k) + '_LDA_f1_train_Col.png'):\n",
    "    f.savefig(os.getcwd() + '/' + str(i) + '_' + str(k) + '_LDA_f1_train_Col.png', dpi=1080,\n",
    "              bbox_inches=bbox)\n",
    "plt.close()\n",
    "# Calculate clf accuracy\n",
    "\n",
    "# Define cross validation\n",
    "random_state = 42\n",
    "cv = RepeatedStratifiedKFold(n_splits=10, n_repeats=10, random_state=random_state)\n",
    "shap_select_X_binary = X_val_all.loc[:, shap_rank_fea]\n",
    "\n",
    "# Initiate all balanced accuracy scores\n",
    "all_balanced_accuracy_scores = []\n",
    "all_balanced_accuracy_stdev = []\n",
    "# Initiate all f1 scores\n",
    "all_f1_scores = []\n",
    "all_f1_stdev = []\n",
    "\n",
    "for wv in range(len(shap_rank_fea)):\n",
    "    # Define LDA model\n",
    "    model = LinearDiscriminantAnalysis()\n",
    "\n",
    "    # Calculate clf accuracy cv\n",
    "    print('Number of Features: ', wv + 1)\n",
    "    _, lda_balanced_accuracy_scores, lda_f1_scores = clf_accuracy_eval(shap_select_X_binary.iloc[:, 0:wv + 1],\n",
    "                                                                       y_val_all, model, cv)\n",
    "    # Store all balanced accuracy scores\n",
    "    all_balanced_accuracy_scores.append(np.mean(lda_balanced_accuracy_scores))\n",
    "    all_balanced_accuracy_stdev.append(np.std(lda_balanced_accuracy_scores))\n",
    "    # Store all f1 scores\n",
    "    all_f1_scores.append(np.mean(lda_f1_scores))\n",
    "    all_f1_stdev.append(np.std(lda_f1_scores))\n",
    "# Save\n",
    "dump(all_balanced_accuracy_scores, str(i) + '_' + str(k) + '_LDA_balanced_test_Col.joblib')\n",
    "dump(all_balanced_accuracy_stdev, str(i) + '_' + str(k) + '_LDA_balanced_stdev_test_Col.joblib')\n",
    "dump(all_f1_scores, str(i) + '_' + str(k) + '_LDA_f1_test_Col.joblib')\n",
    "dump(all_f1_stdev, str(i) + '_' + str(k) + '_LDA_f1_stdev_test_Col.joblib')\n",
    "# plot Clf Balanced Accuracy vs. Number of Features\n",
    "\n",
    "# Set the figure size\n",
    "f, ax = plt.subplots(figsize=(8, 6))\n",
    "# Tight layout\n",
    "f.tight_layout()\n",
    "\n",
    "# Plot\n",
    "plt.plot(np.linspace(1, len(shap_rank_fea), len(shap_rank_fea)), all_balanced_accuracy_scores, '--', lw=2.5)\n",
    "plt.errorbar(np.linspace(1, len(shap_rank_fea), len(shap_rank_fea)), all_balanced_accuracy_scores,\n",
    "             yerr=all_balanced_accuracy_stdev,\n",
    "             fmt='o', capsize=1.5)\n",
    "xlabels = ['0'] + shap_rank_fea.tolist()\n",
    "plt.xticks(np.arange(0, len(shap_rank_fea) + 1, 1), xlabels)\n",
    "# Set figure object\n",
    "ax.set_title('Balanced Accuracy vs. Number of Wavelengths for ' + str(i) + ' vs. ' + str(k))\n",
    "ax.set_xlabel('Wavelengths Included (nm)')\n",
    "ax.set_ylabel('LDA Clf Balanced Accuracy')\n",
    "bbox = matplotlib.transforms.Bbox([[-0.4, -0.4], [8.5, 6.5]])\n",
    "\n",
    "# Save figure\n",
    "if not os.path.exists(str(i) + '_' + str(k) + '_LDA_balanced_test_Col.png'):\n",
    "    f.savefig(os.getcwd() + '/' + str(i) + '_' + str(k) + '_LDA_balanced_test_Col.png', dpi=1080,\n",
    "              bbox_inches=bbox)\n",
    "plt.close()\n",
    "# plot Clf F1 Scores vs. Number of Features\n",
    "\n",
    "# Set the figure size\n",
    "f, ax = plt.subplots(figsize=(8, 6))\n",
    "# Tight layout\n",
    "f.tight_layout()\n",
    "\n",
    "# Plot\n",
    "plt.plot(np.linspace(1, len(shap_rank_fea), len(shap_rank_fea)), all_f1_scores, '--', lw=2.5)\n",
    "plt.errorbar(np.linspace(1, len(shap_rank_fea), len(shap_rank_fea)), all_f1_scores, yerr=all_f1_stdev,\n",
    "             fmt='o', capsize=1.5)\n",
    "xlabels = ['0'] + shap_rank_fea.tolist()\n",
    "plt.xticks(np.arange(0, len(shap_rank_fea) + 1, 1), xlabels)\n",
    "# Set figure object\n",
    "ax.set_title('F1 Scores vs. Number of Wavelengths for ' + str(i) + ' vs. ' + str(k))\n",
    "ax.set_xlabel('Wavelengths Included (nm)')\n",
    "ax.set_ylabel('LDA Clf F1 Score')\n",
    "bbox = matplotlib.transforms.Bbox([[-0.4, -0.4], [8.5, 6.5]])\n",
    "\n",
    "# Save figure\n",
    "if not os.path.exists(str(i) + '_' + str(k) + '_LDA_f1_test_Col.png'):\n",
    "    f.savefig(os.getcwd() + '/' + str(i) + '_' + str(k) + '_LDA_f1_test_Col.png', dpi=1080,\n",
    "              bbox_inches=bbox)\n",
    "plt.close()"
   ],
   "metadata": {
    "collapsed": false,
    "pycharm": {
     "name": "#%%\n"
    }
   }
  },
  {
   "cell_type": "markdown",
   "source": [],
   "metadata": {
    "collapsed": false,
    "pycharm": {
     "name": "#%% md\n"
    }
   }
  }
 ],
 "metadata": {
  "kernelspec": {
   "display_name": "Python 3",
   "language": "python",
   "name": "python3"
  },
  "language_info": {
   "codemirror_mode": {
    "name": "ipython",
    "version": 2
   },
   "file_extension": ".py",
   "mimetype": "text/x-python",
   "name": "python",
   "nbconvert_exporter": "python",
   "pygments_lexer": "ipython2",
   "version": "2.7.6"
  }
 },
 "nbformat": 4,
 "nbformat_minor": 0
}